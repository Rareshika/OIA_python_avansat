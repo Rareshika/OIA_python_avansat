{
  "nbformat": 4,
  "nbformat_minor": 0,
  "metadata": {
    "colab": {
      "provenance": []
    },
    "kernelspec": {
      "name": "python3",
      "display_name": "Python 3"
    },
    "language_info": {
      "name": "python"
    }
  },
  "cells": [
    {
      "cell_type": "markdown",
      "source": [
        "# **Elemente avansate ale limbajului Python**"
      ],
      "metadata": {
        "id": "TVxTdp7FiaV9"
      }
    },
    {
      "cell_type": "markdown",
      "source": [
        "Scopul acestui notebook este de a introduce conceptele mai avansate necesare pentru faza judeteana a Olimpiadei de Inteligenta Artificiala.\n",
        "\n",
        "Sunt necesare cunostinte minime ale limbajului de programare Pyhton. Pentru cei ce isi doresc sa invete de la zero sau isi doresc o recapitulare, recomand acest videoclip publicat pe canalul Olimpiadei de IA: . Puteti lua acest acest notebook ca o parte secunda a lectiei Python.\n",
        "\n",
        "Videoclipul suport pentru parcurgerea acestui notebook este, de asemenea, disponibil pe canalul de youtube al Olimpiadei de IA: ."
      ],
      "metadata": {
        "id": "1a_37vVpiuYx"
      }
    },
    {
      "cell_type": "markdown",
      "source": [
        "# **1. Recapitulare**"
      ],
      "metadata": {
        "id": "Y3UFVAgdkKT_"
      }
    },
    {
      "cell_type": "markdown",
      "source": [
        "# 1.1 Tipuri de date:"
      ],
      "metadata": {
        "id": "uDY65suAkdxg"
      }
    },
    {
      "cell_type": "code",
      "source": [
        "# Acesta este un comentariu, nu este bagat in seama de calculator, este doar pentru noi :)\n",
        "a, b = 12, 5 # umare; ATENTIE! Numarele nu sunt neaparat intregi\n",
        "suma = a + b # 17\n",
        "diferenta = a - b # 7\n",
        "produs = a * b # 60\n",
        "impartire_cu_virgula = a / b # 2.4\n",
        "impartire_fara_virgula = a // b # 2\n",
        "\n",
        "\n",
        "fruct = \"mar\" # sir de caractere sau \"string\"\n",
        "print(fruct[0], fruct[2]) # functioneaza exact ca o lista, unde fruct[i] acceseaza a (i + 1)-a litera\n",
        "\n",
        "\n",
        "lista = [5, 4.7, \"ce caut aici?\", 12] # o lista; ATENTIE! In python listele nu trebuie sa contina acelasi timp de date\n",
        "print(lista[1], lista[2])\n",
        "\n",
        "\n",
        "medii = {\n",
        "    'Rares': 9,\n",
        "    'Mircea': 9.5,\n",
        "    'Ratusca NLP': 10\n",
        "} # un dictionar, pentru care valorile din stanga functioneaza drept chei, iar cele din dreapta drept valori\n",
        "print(medii['Rares'], medii['Ratusca NLP'])"
      ],
      "metadata": {
        "id": "4XCzUVeBkQgA"
      },
      "execution_count": null,
      "outputs": []
    },
    {
      "cell_type": "markdown",
      "source": [
        "# 1.2 Structuri decizionale si structuri repetitive\n",
        "\n"
      ],
      "metadata": {
        "id": "ixb3-V7UnxLl"
      }
    },
    {
      "cell_type": "code",
      "source": [
        "for i in range(10):\n",
        "  if i % 2 == 0:\n",
        "    print(f'{i} este par')\n",
        "  else:\n",
        "    print(f'{i} este impar')\n",
        "\n",
        "# Ce credeti ca va afisa codul?"
      ],
      "metadata": {
        "id": "oeRGLvzTn6FL"
      },
      "execution_count": null,
      "outputs": []
    },
    {
      "cell_type": "code",
      "source": [
        "for i in range(10, 0, -1):\n",
        "  print(i)"
      ],
      "metadata": {
        "id": "kxhWt-dWzU5Y"
      },
      "execution_count": null,
      "outputs": []
    },
    {
      "cell_type": "code",
      "source": [
        "n = 6\n",
        "suma = 0\n",
        "while (n > 0):\n",
        "  suma += n\n",
        "  if (suma % 3 == 0)\n",
        "    print('Am gaist o suma M3!')\n",
        "\n",
        "  n -= 1\n",
        "\n",
        "# Ce credeti ca va afisa acest cod?"
      ],
      "metadata": {
        "id": "w7FYZLGBoSqI"
      },
      "execution_count": null,
      "outputs": []
    },
    {
      "cell_type": "markdown",
      "source": [
        "**Forul in python este detul de puternic, avand cateva functii interesante precum:**"
      ],
      "metadata": {
        "id": "vwuZuzVbw5aF"
      }
    },
    {
      "cell_type": "code",
      "source": [
        "nume = ['Laura', 'Luca', 'Rares', 'Mircea', 'Victor', 'Alex', 'Nicolas', 'Mihai']\n",
        "\n",
        "for prenume in nume: # in python putem itera direct si prin obiecte\n",
        "  print(prenume)\n",
        "\n",
        "varste = [17, 17, 18, 17, 18, 18, 19, 18]\n",
        "for (prenume, varsta) in zip(nume, varste): # listele nume si varsta au aceeasi marime asa ca am putut sa le lipim prin zip\n",
        "  print(f'{prenume} are {varsta} ani') # si sa iteram prin amandoua in acelasi timp"
      ],
      "metadata": {
        "id": "33p7pz28wMoO"
      },
      "execution_count": null,
      "outputs": []
    },
    {
      "cell_type": "markdown",
      "source": [
        "# 1.3 Functii"
      ],
      "metadata": {
        "id": "fvoWzQnhorX2"
      }
    },
    {
      "cell_type": "code",
      "source": [
        "def suma(a, b):\n",
        "  return a + b\n",
        "\n",
        "def afiseaza_divizori(a):\n",
        "  for i in range(a + 1):\n",
        "    if a % i == 0:\n",
        "      print(a)\n",
        "\n",
        "afiseaza_divizori(suma(suma(1 + 6), 3))"
      ],
      "metadata": {
        "id": "C_uvsrg_ouqn"
      },
      "execution_count": null,
      "outputs": []
    },
    {
      "cell_type": "markdown",
      "source": [
        "# 1.4 Exercitii"
      ],
      "metadata": {
        "id": "yrhJktSJpesP"
      }
    },
    {
      "cell_type": "code",
      "source": [
        "# Completati functia pentru a returna o lista cu primii n multiplii nenuli ai lui k\n",
        "def afla_multiplii(n, k):\n",
        "  return\n",
        "# Compeltati functia pentru a returna un dictionar unde cheile sunt de la 1-n, iar valorile sunt patratul lor\n",
        "def patrate(n):\n",
        "  return"
      ],
      "metadata": {
        "id": "kV1Pk3GLpjuS"
      },
      "execution_count": null,
      "outputs": []
    },
    {
      "cell_type": "markdown",
      "source": [
        "# 2. List & Dictionary comprehension"
      ],
      "metadata": {
        "id": "io19EUsdp-Xe"
      }
    },
    {
      "cell_type": "markdown",
      "source": [
        "Aceasta tehnica reprezinta construirea concisa a unui sir sau a unui dictionar, de obicei chiar fiind posibila intr-un singur rand. Cunostinta acesteia este esentiala pentru intelegerea oricarui cod in python, inscriindu-se paradigmei pitonice de a scrie cod, deosebindu-se de C++ prin stilul concis, dar mai greu de inteles initial."
      ],
      "metadata": {
        "id": "3b0rxpvu6uTA"
      }
    },
    {
      "cell_type": "code",
      "source": [
        "# A fost destul de multa munca sa faci functiile precedente, nu?\n",
        "# Asa credeam si eu, ei bine, exista un mod mai usor\n",
        "\n",
        "n, k = 11, 3\n",
        "multiplii = [i * k for i in range(1, n + 1)]\n",
        "\n",
        "# Sa incercam sa pastram doar multiplii pari din aceasta lista\n",
        "multiplii_pari = [i * k for i in range(1, n + 1) if (i * k) % 2 == 0]\n",
        "\n",
        "# Acum hai sa incercam sa generam o lista de lungime n, unde pe pozitie para se afla cuvantul 'DA', iar pe pozitii impare cuvantul 'NU'\n",
        "da_nu = ['DA' if i % 2 == 0 else 'NU' for i in range(n)]\n",
        "\n",
        "# in final, sa rezolvam si cu dictionarul\n",
        "dict_patrate = {x: x**2 for x in range(1, n + 1)}\n",
        "\n",
        "# si ceva putin mai complex, putem itera si prin obiecte direct\n",
        "metrici = ['acuratete', 'precizie', 'recall', 'scor-f1']\n",
        "dict_metrici = {metric: len(metric) for metric in metrici} # un dictionar ce contine drept chei metricile, iar drept valori lungimile lor"
      ],
      "metadata": {
        "id": "9LYWnhUkqF1h"
      },
      "execution_count": null,
      "outputs": []
    },
    {
      "cell_type": "markdown",
      "source": [
        "**Exercitii**"
      ],
      "metadata": {
        "id": "ijni03OKx5ko"
      }
    },
    {
      "cell_type": "code",
      "source": [
        "# 1. Completati codul ca fiind data o lista cu numere, sa se pastreze doar cele de pe pozitie para\n",
        "numere = [1, 10, 3, 2, 7, 9]\n",
        "lista = []\n",
        "print(lista)\n",
        "\n",
        "# 2. Creati un dictionar pentru care cheile lui sa fie numerele de la 1-10, iar valorile patratul numarului, daca este par sau cubul numarului, daca este impar\n",
        "patrat_sau_cub = {}\n",
        "print(patrat_sau_cub)\n",
        "\n",
        "# 3. Dandu-se o lista cu numele unor elevi si o lista cu notele lor, completati codul pentru a forma un dictionar in care cheia sa fie numele, iar valoarea sa fie nota lor\n",
        "# Listele au aceeasi lungime, iar daca un copil se afla pe pozitia i, atunci nota sa se afla tot pe pozitia i\n",
        "\n",
        "nume_copii = ['Teia', 'Victor', 'Andreas', 'Adriana', 'Tamara', 'Melvin']\n",
        "note_copii = [10, 8.33, 8.5, 9.5, 9.5, 9.85]\n",
        "\n",
        "# 4. Pentru a antrena un model este nevoie de doua dictionare id2label si label2id\n",
        "# Creati aceste doua dictionare, stiind ca label2id are forma {label: pozitia in sir},\n",
        "# iar id2label are forma {pozitia in sir: label}\n",
        "\n",
        "labels = ['cat', 'dog', 'car', 'duck', 'airplane', 'train', 'teddy bear']\n",
        "label2id = {}\n",
        "id2label = {}"
      ],
      "metadata": {
        "id": "Mg6Dc3mYtQK6"
      },
      "execution_count": null,
      "outputs": []
    },
    {
      "cell_type": "markdown",
      "source": [
        "# 3. Functii"
      ],
      "metadata": {
        "id": "EsUC04Ot4bwq"
      }
    },
    {
      "cell_type": "markdown",
      "source": [
        "# 3.1 Functii recursive"
      ],
      "metadata": {
        "id": "RGGn-RF54eJN"
      }
    },
    {
      "cell_type": "markdown",
      "source": [
        "Functiile recursive sunt functii care se apeleaza singure in mod \"recursiv\" pentru a rezolva diverse probleme intr-un mod foarte elegant.\n",
        "\n",
        "Evident, python sustine acest tip de functii si impreuna vom face cateva exemple, care va vor fi familiare."
      ],
      "metadata": {
        "id": "tk8VMZ8i4ilB"
      }
    },
    {
      "cell_type": "code",
      "source": [
        "# Toti suntem familiari cu numarul lui fibonacci, care este definit dupa recurenta fib(n) = fib(n - 1) + fib(n - 2), iar fib(0) = 0, fib(1) = 1\n",
        "# Scopul este sa putem face o functie recursiva care sa calculeze al n-lea termen fibonacci\n",
        "\n",
        "# Varianta iterativa:\n",
        "def fib_iterativ(n):\n",
        "  if (n == 0): # caz de baza\n",
        "    return 0\n",
        "\n",
        "  if (n == 1): # caz de baza\n",
        "    return 1\n",
        "\n",
        "  fib_0, fib_1 = 0, 1\n",
        "  for i in range(2, n + 1):\n",
        "    fib_nou = fib_0 + fib_1\n",
        "\n",
        "    fib_0 = fib_1\n",
        "    fib_1 = fib_nou\n",
        "\n",
        "  return fib_1\n",
        "\n",
        "\n",
        "# varianta recursiva\n",
        "def fib_recursiv(n): # OBSERVATIE! Important e faptul ca se pastreaza cazurile de baza\n",
        "  if (n == 0):\n",
        "    return 0\n",
        "\n",
        "  if (n == 1):\n",
        "    return 1\n",
        "\n",
        "  return fib_recursiv(n - 1) + fib_recursiv(n - 2)"
      ],
      "metadata": {
        "id": "JjkY7r2h44J4"
      },
      "execution_count": null,
      "outputs": []
    },
    {
      "cell_type": "markdown",
      "source": [
        "# 3.2 Functii lambda(functii anonime)"
      ],
      "metadata": {
        "id": "FBCnr6it6pAk"
      }
    },
    {
      "cell_type": "markdown",
      "source": [
        "Functiile lambda sunt extrem de utile atunci cand functia reprezinta o expresie simpla. Acestea sunt foarte asemanatoare celor normale, insa lor le lipseste un nume, de aici li se mai spune si functii anonime."
      ],
      "metadata": {
        "id": "KX3x7dAA7jA0"
      }
    },
    {
      "cell_type": "code",
      "source": [
        "# Un exemplu simplu de transformat intr-o functie lambda este functia f(x) = 2 * x\n",
        "\n",
        "def f(x):\n",
        "  return 2 * x\n",
        "print(f(3))\n",
        "\n",
        "# Cum am face asta cu lambda?\n",
        "lambda x: 2 * x\n",
        "\n",
        "# Acum ca am creat functia, cum o apelam? Ei bine, trebuie sa folosim apelarea imediata\n",
        "print((lambda x: 2 * x)(3))\n",
        "\n",
        "# SAU ii putem da un nume functiei lambda, moment in care devine echivalenta cu una obisnuita\n",
        "dublu = lambda x: 2 * x\n",
        "print(dublu(3))\n",
        "\n",
        "# totodata, functiile lambda pot primi mai multe argumente, spre ex:\n",
        "rezultat = (lambda x, y, z: x + y + z)(2, 3, 4)\n",
        "print(rezultat)"
      ],
      "metadata": {
        "id": "Eprfelqo7w9_"
      },
      "execution_count": null,
      "outputs": []
    },
    {
      "cell_type": "markdown",
      "source": [
        "Multi acum probabil va intrebati de ce trebuie sa stiti despre aceste functii ciudate, care au acelasi scop ca functiile obisnuite, numai ca arata mai urat.\n",
        "Ei bine, raspunsul este ca sunt foarte des intalnite la functiile **filter si map**, care se intampla sa fie si urmatorul subcapitol."
      ],
      "metadata": {
        "id": "fvg2jF1P9Flt"
      }
    },
    {
      "cell_type": "markdown",
      "source": [
        "# 3.3 Filter & Map"
      ],
      "metadata": {
        "id": "hhh8lyFn9kWA"
      }
    },
    {
      "cell_type": "markdown",
      "source": [
        "Functiile de filter si map sunt esentiale pentru arsenalul fiecarui utilizator de python. Acestea permit modificarea sirurilor de date intr-un mod eficient si elegant."
      ],
      "metadata": {
        "id": "22EVFAIi9piy"
      }
    },
    {
      "cell_type": "code",
      "source": [
        "# Filter!\n",
        "# Functia de filter, dupa cum sugereaza si numele, filtreaza un set de date\n",
        "# Spre exemplu, sa zicem ca avem lista unor persoane care vor sa isi faca cont pe un site de dating, ce necesita varsta minima de 18 ani\n",
        "# Noi, respectand legea, vrem sa retinem doar persoanele majorate atunci. Filter este perfect pentru aceasta situatie!\n",
        "\n",
        "\n",
        "varste = [12, 18, 14, 24, 70, 13]\n",
        "# Vom incepe cu solutia fara filter\n",
        "def afla_majori_fara_filter(varste):\n",
        "  majori = []\n",
        "  for varsta in varste:\n",
        "    if varsta >= 18:\n",
        "      majori.append(varsta)\n",
        "  return majori\n",
        "\n",
        "\n",
        "majori = afla_majori_fara_filter(varste)\n",
        "print(majori)\n",
        "\n",
        "# pfft, cam mult cod. Se poate observa cum aceasta metoda poate duce la erori in cazul unor conditii mai complexe\n",
        "# Aceasta este problema pe care filter o rezolva\n",
        "\n",
        "# Solutia cu filter, dar fara lambda\n",
        "def este_major(varsta):\n",
        "  return varsta >= 18\n",
        "\n",
        "majori = list(filter(este_major, varste))\n",
        "print(majori)\n",
        "\n",
        "# Haideti sa disecam ce s-a intamplat aici,\n",
        "# Functia filter ia 2 parametrii, o functie booleana si un iterabil si returneaza un iterator\n",
        "# Astfel, filter itereaza prin fiecare obiect si il trece prin functia noastra.\n",
        "# Daca aceasta returneaza True, atunci trebuie pastrata, daca nu, trebuie filtrata\n",
        "# Separand functia de verificare de codul de iterare, ne permite sa scriem functii mai complexe si reduce sansa de a gresi\n",
        "# In final, a trebuit sa convertim iteratorul intr-o lista\n",
        "\n",
        "# Nu in ultimul rand, filter, dar cu lambda\n",
        "majori = list(filter(lambda x: x >= 18, varste)) #WOW! Cat de mult am putut reduce marimea codului...\n",
        "print(majori)"
      ],
      "metadata": {
        "id": "cj31KFyO99lm"
      },
      "execution_count": null,
      "outputs": []
    },
    {
      "cell_type": "code",
      "source": [
        "# Map!\n",
        "# Functia de map are rolul de a aplica o transformare pe fiecare element dintr-un set de date\n",
        "# Spre exemplu avem o lista de viteze a elevilor ce nu prea vin la ora de sport pentru a coda\n",
        "# si vrem o lista noua in care fiecare viteza este dublata, pentru a le putea incheia media\n",
        "# Acum ca am discutat despre filter, map va parea mult mai usor\n",
        "\n",
        "v = [6, 3, 4, 8, 12]\n",
        "\n",
        "# Solutia fara map(anti-pitonica)\n",
        "def dubleaza_sirul(v):\n",
        "  dublat = []\n",
        "  for x in v:\n",
        "    dublat.append(2 * x)\n",
        "  return dublat\n",
        "\n",
        "dublat = dubleaza_sirul(v) # Din nou, cam mult cod si e destul de usor sa gresim\n",
        "print(dublat)\n",
        "\n",
        "# Solutia cu map, dar fara lambda\n",
        "def dubleaza(x):\n",
        "  return 2 * x\n",
        "\n",
        "dublat = list(map(dubleaza, v))\n",
        "print(dublat)\n",
        "\n",
        "# Solutia cu map si cu lambda\n",
        "dublat = list(map(lambda x: 2 * x, v))\n",
        "print(dublat)\n",
        "\n",
        "# ATENTIE! Map poate fi folosita pe mai mult de un sir in acelasi timp, spre exemplu:\n",
        "# Sa zicem ca inregistram timpul pentru care fiecare copil alearga si vrem sa aflam distanta pe care acesta a alergat\n",
        "t = [3, 5, 2, 2, 1]\n",
        "distanta = list(map(lambda x, y: x * y, v, t))"
      ],
      "metadata": {
        "id": "Qutym8NnAYzK"
      },
      "execution_count": null,
      "outputs": []
    },
    {
      "cell_type": "markdown",
      "source": [
        "# 3.4 Exercitii"
      ],
      "metadata": {
        "id": "bF-4p3YYC-eF"
      }
    },
    {
      "cell_type": "code",
      "source": [
        "# 1. faceti o functie recursiva 'tribonacci', care calculeaza al n-lea termen 'tribonacci', unde trib(n) = trib(n - 1) + trib(n - 2) + trib(n -3 )\n",
        "# si trib(0) = 0, trib(1) = 1, trib(2) = 1\n",
        "\n",
        "def trib(n):\n",
        "  return"
      ],
      "metadata": {
        "id": "PqoT-3nh6OoE"
      },
      "execution_count": null,
      "outputs": []
    },
    {
      "cell_type": "code",
      "source": [
        "# 2. Creati o functie lambda care calculeaza cubul unui numar si numiti-o cub\n",
        "# 3. Creati o functie lambda care calculeaza restul unui numar la 5 si numiti-o mod_5"
      ],
      "metadata": {
        "id": "I-lHeSC9DHWI"
      },
      "execution_count": null,
      "outputs": []
    },
    {
      "cell_type": "code",
      "source": [
        "# 4a. Dandu-se un sir de numere, v, folositi functiile de la 2 si 3 pentru a creea alte 2 siruri noi\n",
        "# a si b cu ajutorul functiei map, unde a = cub(v) si b = mod_5(v).\n",
        "# 4b. Sa se calculeze sirul c care este diferenta dintre a si b, folosindu-se map\n",
        "\n",
        "v = [27, 19, 20, 24, 11]"
      ],
      "metadata": {
        "id": "ZNh1Fv6tDaIj"
      },
      "execution_count": null,
      "outputs": []
    },
    {
      "cell_type": "code",
      "source": [
        "# 5. Dandu-se un sir de numere naturale, v, folositi filter pentru a creea un sir nou\n",
        "# care sa contina numerele care sunt multiplii de 5 sau de 3, dar nu de 15\n",
        "\n",
        "v = [9, 8, 12, 15, 20, 25, 30, 14]"
      ],
      "metadata": {
        "id": "pSJbLVtfF5SJ"
      },
      "execution_count": null,
      "outputs": []
    },
    {
      "cell_type": "markdown",
      "source": [
        "# 4. Clase"
      ],
      "metadata": {
        "id": "4OqZwt48NVbN"
      }
    },
    {
      "cell_type": "markdown",
      "source": [
        "Clasele reprezinta cel mai utilizat mod de a structura atat date cat si functii intr-o singura structura reutilizabila. In acest fel codul devine organizat si modular."
      ],
      "metadata": {
        "id": "YerifWXUNX4V"
      }
    },
    {
      "cell_type": "markdown",
      "source": [
        "# 4.1 Initializarea unei clase"
      ],
      "metadata": {
        "id": "fAYjA-QZTZJ1"
      }
    },
    {
      "cell_type": "code",
      "source": [
        "# Sa zicem ca vrem sa tinem cont de mai multe masini care sunt caracterizate de:\n",
        "# brand, greutate, HP\n",
        "\n",
        "# Fara sa stim clase, cea mai buna optiune a noastra ar fi sa ne construim 3 vectori separati\n",
        "# si sa pastram fiecare indice pentru cate o masina(adica masina_i sa corespuna cu brand_i, greutate_i si HP_i)\n",
        "\n",
        "# Spre ex\n",
        "branduri = ['Mercedes', 'Hyundai', 'Dacia']\n",
        "greutati = [1200, 1050, 1125]\n",
        "HPs = [300, 150, 200]\n",
        "\n",
        "# pentru a itera prin masini ar trebui sa folosim un for alaturi de functia zip:\n",
        "for (brand, greutate, HP) in zip(branduri, greutati, HPs):\n",
        "  print(f'Caracterizarea masinii: {brand}, {greutate}, {HP}')\n"
      ],
      "metadata": {
        "id": "56QQuMlUOAPo"
      },
      "execution_count": null,
      "outputs": []
    },
    {
      "cell_type": "code",
      "source": [
        "# Nu pare asa de rau... hai totusi sa adaug inca doua masini noi\n",
        "branduri.append('Audi')\n",
        "greutati.append(1300)\n",
        "HPs.append(250)\n",
        "\n",
        "branduri.append('Volkswagen')\n",
        "HPs.append(175)\n",
        "\n",
        "# Pfiu, a fost destul de mult cod, hai sa verificam daca totul este in regula\n",
        "for (brand, greutate, HP) in zip(branduri, greutati, HPs):\n",
        "  print(f'Caracterizarea masinii: {brand}, {greutate}, {HP}')\n",
        "\n",
        "# Hmmm, masina  Volkswageb nu apare..\n",
        "# Oh nu! Se pare ca am uitat sa adaug greutatea ultimei masini\n",
        "# Ei bine, aceasta este una dintre problemele pe care clasele le rezolva"
      ],
      "metadata": {
        "id": "G-lNrqMQTKH-"
      },
      "execution_count": null,
      "outputs": []
    },
    {
      "cell_type": "code",
      "source": [
        "# Haideti sa ne cream prima clasa\n",
        "class Masina():\n",
        "  def __init__(self, brand, greutate, HP): # functia '__init__' actioneaza drept constructor si este necesara pentru orice clasa\n",
        "                                      # intre paranteze se afla parametrii pe care vrem sa ii primeasca clasa la intializare\n",
        "    self.brand = brand # cuvantul cheie 'self' descrie ceva ce apartine clasei\n",
        "    self.greutate = greutate\n",
        "    self.HP = HP\n",
        "\n",
        "  def descriere(self): # Inauntrul fiecarei clase, va exista aceasta functie pe care o putem apela\n",
        "    print(f'Caracterizarea masinii: {self.brand}, {self.greutate}, {self.HP}')\n",
        "\n",
        "# Acum sa incercam sa adaugam aceleasi masini ca inainte\n",
        "# De data aceasta putem tine un vector pentru ele\n",
        "masini = []\n",
        "masini.append(Masina(brand='Mercedes', greutate=1200, HP=300)) # Dintr-odata codul a devenit mult mai lizbil\n",
        "masini.append(Masina('Hyundai', 1050, 150)) # Putem, de asemenea, sa punem parametrii in ordine fara sa le mentionam numele\n",
        "masini.append(Masina('Dacia', 1125, 200)) # Putem, de asemenea, sa punem parametrii in ordine fara sa le mentionam numele\n",
        "\n",
        "for masina in masini:\n",
        "  masina.descriere()"
      ],
      "metadata": {
        "id": "wS7qZN-mQ-NZ"
      },
      "execution_count": null,
      "outputs": []
    },
    {
      "cell_type": "code",
      "source": [
        "# Sa incercam sa gresim intetinoat sa vedem daca ne lasa, voi omite adaugarea greutatii\n",
        "masini.append(Masina('Audi', 200))\n",
        "\n",
        "# De data aceasta am fost anuntati din timp, astfel devine mult mai putin probabil sa gresim!"
      ],
      "metadata": {
        "id": "yr2qtncwTLpK"
      },
      "execution_count": null,
      "outputs": []
    },
    {
      "cell_type": "markdown",
      "source": [
        "# 4.2 Ereditatea claselor"
      ],
      "metadata": {
        "id": "xtJ-iERzTesF"
      }
    },
    {
      "cell_type": "markdown",
      "source": [
        "Adesea in OOP(object oriented programming), vom crea o clasa generala, care va functiona drept o schela, pentru clasele specializate in viitor.\n",
        "\n",
        "Avand clasa 'Masina' implementata, sa zicem ca am vrea sa facem o clasa Camion, care are aceleasi proprietati ca o masina(brand, greutate, HP) si una noua, anume: capacitate. Are trei functii in plus:\n",
        "1. incarca_marfa\n",
        "2. descarca_marfa\n",
        "3.afiseaza_marfa\n",
        "\n",
        "Mai jos, va voi arata cum sa faceti asta, folosind ereditatea claselor.\n",
        "Aceasta sectiune va fi scruta, intrucat scopul ei este de a construi, mai degraba, o intuitie pentru ce este ereditatea si o idee generala pentru cum functioneaza. Astfel, nu va mai parea infricosatoare cand o veti intalni pe viitor."
      ],
      "metadata": {
        "id": "xSQuHNv8T9UL"
      }
    },
    {
      "cell_type": "code",
      "source": [
        "class Camion(Masina): # OBSERVATIE! Intre paranteze se afla clasa 'parinte', din care se trage\n",
        "  def __init__(self, brand, greutate, HP, capacitate):\n",
        "    super().__init__(brand, greutate, HP) # Linia asta apeleaza init-ul parintelui pentru a asigura intializarea corecta\n",
        "    self.capacitate=capacitate\n",
        "    self.marfuri = []\n",
        "\n",
        "  def incarca_marfa(self, marfa_noua):\n",
        "    self.marfuri.append(marfa_noua)\n",
        "\n",
        "  def descarca_marfa(self):\n",
        "    self.marfuri.pop()\n",
        "\n",
        "  def afiseaza_marfa(self):\n",
        "    print(f'Marfuri: {self.marfuri}')\n",
        "\n",
        "  def descriere(self):\n",
        "    print(f'Caracterizarea masinii: {self.brand}, {self.greutate}, {self.HP} si marfurile: {self.marfuri} cu capacitatea: {self.capacitate}')\n",
        "\n",
        "camion = Camion('Mercedes', 10, 200, 10)\n",
        "camion.descriere() # OBSERVATIE! Am preluat functia prin ereditate, insa am editat-o pentru a descrie camionul\n",
        "camion.incarca_marfa('peste')\n",
        "camion.incarca_marfa('pui')\n",
        "camion.descarca_marfa()\n",
        "camion.afiseaza_marfa()"
      ],
      "metadata": {
        "id": "PURTJCYjVgpR"
      },
      "execution_count": null,
      "outputs": []
    },
    {
      "cell_type": "markdown",
      "source": [
        "# 4.3 Exercitii"
      ],
      "metadata": {
        "id": "TJV1Mk6qcKzf"
      }
    },
    {
      "cell_type": "code",
      "source": [
        "# 1. Creati o clasa numita Carte, care sa descrie o carte prin urmatoarele:\n",
        "# a) titlu: string\n",
        "# b) autor: string\n",
        "# c) pagini: numar\n",
        "# si o functie descriere pentru a descrie cartea in urmatorul format:\n",
        "# Cartea 'titlu' de 'autor' are 'pagini' pagini.\n",
        "\n",
        "\n",
        "# 2. Folosindu-va de clasa Carte, creati o subclasa Ebook care sa preia din Carte\n",
        "# trebuie adaugat un atribut nou: dimensiune\n",
        "# si sa fie editata functia de descriere pentru a afisa si dimensiunea"
      ],
      "metadata": {
        "id": "-127y-3QcHVw"
      },
      "execution_count": null,
      "outputs": []
    },
    {
      "cell_type": "markdown",
      "source": [
        "# 5. Citirea si scrierea in fisiere text"
      ],
      "metadata": {
        "id": "_TDImLdxiZpZ"
      }
    },
    {
      "cell_type": "markdown",
      "source": [
        "# 5.1 Citirea din fisiere"
      ],
      "metadata": {
        "id": "oMfqjTD2jY41"
      }
    },
    {
      "cell_type": "code",
      "source": [
        "# Citirea din fisiere in python este foarte simpla\n",
        "\n",
        "# Asa putem citi intregul continut al unui fisier:\n",
        "with open(\"exemplu.txt\", \"r\") as file:\n",
        "  continut = file.read()\n",
        "print(continut)\n",
        "\n",
        "# Asa putem itera linie cu linie prin continutul unui fisier:\n",
        "with open(\"exemplu.txt\", \"r\") as file:\n",
        "  for line in file:\n",
        "    print(line.strip()) # .strip() scapa de spatiile albe de la inceputul si finalul liniei"
      ],
      "metadata": {
        "id": "8dAcUM0nigDW"
      },
      "execution_count": null,
      "outputs": []
    },
    {
      "cell_type": "markdown",
      "source": [
        "# 5.2 Scrierea intr-un fisier"
      ],
      "metadata": {
        "id": "uechAKw8kWng"
      }
    },
    {
      "cell_type": "code",
      "source": [
        "# Scrierea este la fel de usoara\n",
        "\n",
        "with open(\"exemplu.txt\", \"w\") as file:\n",
        "  file.write('Ne apropiem de finalul tutorialului!')"
      ],
      "metadata": {
        "id": "iueiqFUTkaHQ"
      },
      "execution_count": null,
      "outputs": []
    },
    {
      "cell_type": "markdown",
      "source": [
        "# 5.3 Exercitii"
      ],
      "metadata": {
        "id": "Cf7Cst8Kyo6Q"
      }
    },
    {
      "cell_type": "code",
      "source": [
        "# 1. Citind din acelasi fisier, calculati media notelor elevilor\n",
        "# 2. Adaugati un nou elev Fred, cu scorul 88"
      ],
      "metadata": {
        "id": "_kfZr_Z0yu4Q"
      },
      "execution_count": null,
      "outputs": []
    },
    {
      "cell_type": "markdown",
      "source": [
        "# Sfarsit!\n",
        "\n",
        "Sper ca acest notebook a fost educativ! Daca aveti nevoie de clarificari sau de solutiile problemelor, va puteti uita la videoclipul postat pe canalul de youtube al Olimpiadei de IA."
      ],
      "metadata": {
        "id": "Iz1PEWL1k5Kn"
      }
    }
  ]
}